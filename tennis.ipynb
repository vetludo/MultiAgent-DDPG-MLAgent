{
 "cells": [
  {
   "cell_type": "code",
   "execution_count": null,
   "metadata": {},
   "outputs": [],
   "source": [
    "import torch\n",
    "import numpy as np\n",
    "import matplotlib.pyplot as plt\n",
    "from collections import deque\n",
    "from .maddpg_agent import MADDPG_Net\n",
    "from .environment import Environment"
   ]
  },
  {
   "cell_type": "markdown",
   "metadata": {},
   "source": [
    "## Set hyper parameters"
   ]
  },
  {
   "cell_type": "code",
   "execution_count": null,
   "metadata": {},
   "outputs": [],
   "source": [
    "class args:\n",
    "    eval = False\n",
    "    device = torch.device(\"cuda:0\" if torch.cuda.is_available() else \"cpu\")\n",
    "    num_episodes = 1200\n",
    "    pretrain_length = 25000\n",
    "    batch_size = 128\n",
    "    buffer_size = int(3e5)\n",
    "    actor_learn_rate = 5e-4\n",
    "    critic_learn_rate = 3e-4\n",
    "    gamma = 0.99\n",
    "    tau = 1e-4\n",
    "    e = 0.3\n",
    "    e_decay = 1\n",
    "    e_min = 0.00\n",
    "    anneal_max = 0.7\n",
    "    rollout = 5\n",
    "    num_atoms = 100\n",
    "    vmin = 0.0\n",
    "    vmax = 2.0\n",
    "    update_every = 2500\n",
    "    print_every = 100\n",
    "    update_type = 'soft'\n",
    "    random_seed = 0\n",
    "    train = not eval"
   ]
  },
  {
   "cell_type": "markdown",
   "metadata": {},
   "source": [
    "## Set Environment"
   ]
  },
  {
   "cell_type": "code",
   "execution_count": null,
   "metadata": {},
   "outputs": [],
   "source": [
    "env_filepath = \"./Tennis_Windows_x86_64/Tennis.exe\"\n",
    "env = Environment(env_filepath)\n",
    "\n",
    "multi_agent = MADDPG_Net(env, args)"
   ]
  },
  {
   "cell_type": "markdown",
   "metadata": {},
   "source": [
    "## Train the agents"
   ]
  },
  {
   "cell_type": "code",
   "execution_count": null,
   "metadata": {},
   "outputs": [],
   "source": [
    "def train_maddpg(multi_agent, args, env):\n",
    "    multi_agent.initialize_memory(args.pretrain_length, env)\n",
    "    scores_deque = deque(maxlen=args.print_every)\n",
    "    scores = []\n",
    "    highest_avg_score = 0\n",
    "\n",
    "    for episode in range(1, args.num_episodes + 1):\n",
    "        env.reset()\n",
    "        obs = env.states\n",
    "        score = np.zeros(multi_agent.agent_count)\n",
    "        while True:\n",
    "            actions = multi_agent.act(obs)\n",
    "            next_obs, rewards, dones = env.step(actions)\n",
    "            score += rewards\n",
    "            multi_agent.store((obs, next_obs, actions, rewards, dones))\n",
    "            multi_agent.learn()\n",
    "            obs = next_obs\n",
    "            if np.any(dones):\n",
    "                break\n",
    "        scores_deque.append(np.max(score))\n",
    "        scores.append(np.max(score))\n",
    "        print('\\rEpisode {}\\tAverage Score: {:.2f}'.format(episode, np.mean(scores_deque)), end=\"\")\n",
    "        if np.mean(scores_deque) >= highest_avg_score:\n",
    "            for i, a in enumerate(multi_agent.agents):\n",
    "                torch.save(a.actor_local.state_dict(), f'checkpoint_actor_a{i}.pth')\n",
    "                torch.save(a.critic_local.state_dict(), f'checkpoint_critic_a{i}.pth')\n",
    "            highest_avg_score = np.mean(scores_deque)\n",
    "        if episode % args.print_every == 0:\n",
    "            print('\\rEpisode {}\\tAverage Score: {:.2f}'.format(episode, np.mean(scores_deque)))\n",
    "        multi_agent.new_episode(scores)\n",
    "    env.close()\n",
    "    return scores"
   ]
  },
  {
   "cell_type": "code",
   "execution_count": null,
   "metadata": {},
   "outputs": [],
   "source": [
    "scores = train_maddpg(multi_agent, args, env)\n",
    "\n",
    "fig = plt.figure()\n",
    "ax = fig.add_subplot(111)\n",
    "plt.plot(np.arange(1, len(scores) + 1), scores)\n",
    "plt.ylabel('Score')\n",
    "plt.xlabel('Episode #')\n",
    "plt.show()"
   ]
  },
  {
   "cell_type": "markdown",
   "metadata": {},
   "source": [
    "## Load Network\n",
    "Load saved network for evaluation agents."
   ]
  },
  {
   "cell_type": "code",
   "execution_count": null,
   "metadata": {},
   "outputs": [],
   "source": [
    "def load_qnetwork(multi_agent, env):\n",
    "    for i, a in enumerate(multi_agent.agents):\n",
    "        a.actor_local.load_state_dict(torch.load(f'checkpoint_actor_a{i}.pth'))\n",
    "        a.critic_local.load_state_dict(torch.load(f'checkpoint_critic_a{i}.pth'))\n",
    "\n",
    "    scores = []\n",
    "    for episode in range(1, 1):\n",
    "        env.reset(train=False)\n",
    "        obs = env.states\n",
    "        score = np.zeros(multi_agent.agent_count)\n",
    "        while True:\n",
    "            actions = multi_agent.act(obs, training=False)\n",
    "            next_obs, rewards, dones = env.step(actions)\n",
    "            obs = next_obs\n",
    "            score += rewards\n",
    "            if np.any(dones):\n",
    "                break\n",
    "        scores.append(np.max(score))\n",
    "        print(\"Score: {}\".format(np.max(score)))\n",
    "        multi_agent.new_episode(scores)\n",
    "    env.close()\n",
    "    return"
   ]
  },
  {
   "cell_type": "code",
   "execution_count": null,
   "metadata": {},
   "outputs": [],
   "source": [
    "load_qnetwork(multi_agent, env)"
   ]
  }
 ],
 "metadata": {
  "kernelspec": {
   "display_name": "Python 3",
   "language": "python",
   "name": "python3"
  },
  "language_info": {
   "codemirror_mode": {
    "name": "ipython",
    "version": 3
   },
   "file_extension": ".py",
   "mimetype": "text/x-python",
   "name": "python",
   "nbconvert_exporter": "python",
   "pygments_lexer": "ipython3",
   "version": "3.6.9"
  }
 },
 "nbformat": 4,
 "nbformat_minor": 2
}
